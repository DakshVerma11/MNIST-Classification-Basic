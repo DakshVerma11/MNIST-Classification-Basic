{
  "nbformat": 4,
  "nbformat_minor": 0,
  "metadata": {
    "colab": {
      "provenance": []
    },
    "kernelspec": {
      "name": "python3",
      "display_name": "Python 3"
    },
    "language_info": {
      "name": "python"
    }
  },
  "cells": [
    {
      "cell_type": "code",
      "execution_count": 1,
      "metadata": {
        "id": "olSh_CkoZv5R"
      },
      "outputs": [],
      "source": [
        "import tensorflow as tf\n",
        "import numpy as np\n",
        "import matplotlib.pyplot as plt\n",
        "from PIL import Image\n",
        "import io\n",
        "from google.colab import files\n",
        "import IPython.display as display"
      ]
    },
    {
      "cell_type": "code",
      "source": [
        "# Function to upload the model file\n",
        "def upload_model():\n",
        "    uploaded = files.upload()\n",
        "    for filename in uploaded.keys():\n",
        "        model = tf.keras.models.load_model(filename)\n",
        "        return model\n",
        "\n",
        "# Function to upload an image file\n",
        "def upload_image():\n",
        "    uploaded = files.upload()\n",
        "    for filename in uploaded.keys():\n",
        "        image = Image.open(io.BytesIO(uploaded[filename]))\n",
        "        return image\n",
        "\n",
        "# Function to plot results and make predictions\n",
        "def plot_results(image, model, class_names):\n",
        "    # Convert the PIL Image\n",
        "    image = image.convert('L').resize((28, 28))\n",
        "    image_array = np.array(image)\n",
        "    image_array = image_array / 255.0\n",
        "    image_array = image_array.reshape(1, 28, 28, 1)\n",
        "\n",
        "    # Predict the image class\n",
        "    predictions = model.predict(image_array)\n",
        "    predicted_label = np.argmax(predictions)\n",
        "\n",
        "    # Display the results\n",
        "    plt.figure(figsize=(6, 6))\n",
        "    plt.imshow(image_array.reshape(28, 28), cmap='gray')\n",
        "    plt.title(f\"Predicted: {class_names[predicted_label]}\")\n",
        "    plt.axis('off')\n",
        "    plt.show()"
      ],
      "metadata": {
        "id": "e1UstsXKZ01j"
      },
      "execution_count": 6,
      "outputs": []
    },
    {
      "cell_type": "code",
      "source": [
        "# Load the model\n",
        "print(\"Upload your model file:\")\n",
        "model = upload_model()"
      ],
      "metadata": {
        "id": "dEusNQREZ3PS"
      },
      "execution_count": null,
      "outputs": []
    },
    {
      "cell_type": "code",
      "source": [
        "class_names = ['Zero', 'One', 'Two', 'Three', 'Four', 'Five', 'Six', 'Seven', 'Eight', 'Nine']"
      ],
      "metadata": {
        "id": "9UPWQ26mZ45y"
      },
      "execution_count": null,
      "outputs": []
    },
    {
      "cell_type": "code",
      "source": [
        "image = upload_image()\n",
        "plot_results(image, model, class_names)"
      ],
      "metadata": {
        "id": "YL8Mj8kPZ8cY"
      },
      "execution_count": null,
      "outputs": []
    },
    {
      "cell_type": "code",
      "source": [],
      "metadata": {
        "id": "sk6btOLbbq_7"
      },
      "execution_count": null,
      "outputs": []
    }
  ]
}